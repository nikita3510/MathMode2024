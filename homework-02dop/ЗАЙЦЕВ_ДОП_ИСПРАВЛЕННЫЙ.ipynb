{
  "metadata": {
    "kernelspec": {
      "name": "python",
      "display_name": "Python (Pyodide)",
      "language": "python"
    },
    "language_info": {
      "codemirror_mode": {
        "name": "python",
        "version": 3
      },
      "file_extension": ".py",
      "mimetype": "text/x-python",
      "name": "python",
      "nbconvert_exporter": "python",
      "pygments_lexer": "ipython3",
      "version": "3.8"
    },
    "colab": {
      "provenance": []
    }
  },
  "nbformat_minor": 0,
  "nbformat": 4,
  "cells": [
    {
      "cell_type": "code",
      "source": [
        "Давайте загрузим файл \"cipher.txt\" и приступим к анализу. Я создам ячейку в Jupyter блокноте и начну с чтения\n",
        "зашифрованного текста из файла:"
      ],
      "metadata": {
        "trusted": true,
        "id": "0X2eunWP2CRp"
      },
      "outputs": [],
      "execution_count": null
    },
    {
      "cell_type": "code",
      "source": [
        "with open('cipher.txt', 'r', encoding='latin1') as file:\n",
        "    ciphertext = file.read()"
      ],
      "metadata": {
        "trusted": true,
        "id": "9TSHYY7q2CRs"
      },
      "outputs": [],
      "execution_count": 4
    },
    {
      "cell_type": "code",
      "source": [
        "Теперь, чтобы определить длину ключа, мы можем посчитать индекс совпадений (IC, Index of Coincidence) для различных длин ключа.\n",
        "IC - это мера того, насколько текст похож на случайный текст. Если IC близок к ожидаемому значению для языка (в данном случае русского языка)\n",
        "то это может указывать на длину ключа. Я создам цикл, который будет пробегать по возможным длинам ключа и вычислять IC:"
      ],
      "metadata": {
        "trusted": true,
        "id": "cr8R-sUj2CRt"
      },
      "outputs": [],
      "execution_count": null
    },
    {
      "cell_type": "code",
      "source": [
        "import numpy as np\n",
        "\n",
        "def calculate_ic(text):\n",
        "    text = text.replace(\" \", \"\")  # Удаляем пробелы\n",
        "    freq = {}\n",
        "    for char in text:\n",
        "        freq[char] = freq.get(char, 0) + 1\n",
        "    ic = 0\n",
        "    n = len(text)\n",
        "    for count in freq.values():\n",
        "        ic += count * (count - 1)\n",
        "    ic /= n * (n - 1)\n",
        "    return ic\n",
        "\n",
        "def find_key_length(ciphertext):\n",
        "    possible_lengths = np.arange(1, len(ciphertext)//2 + 1)\n",
        "    ic_values = []\n",
        "    for length in possible_lengths:\n",
        "        subtexts = [ciphertext[i::length] for i in range(length)]\n",
        "        ic_average = np.mean([calculate_ic(subtext) for subtext in subtexts])\n",
        "        ic_values.append(ic_average)\n",
        "    return possible_lengths[np.argmax(ic_values)]\n",
        "\n",
        "key_length = find_key_length(ciphertext)\n",
        "print(\"Длина ключа:\", key_length)"
      ],
      "metadata": {
        "trusted": true,
        "colab": {
          "base_uri": "https://localhost:8080/"
        },
        "id": "7CsnvGLh2CRt",
        "outputId": "cc65720b-a579-4c15-c5f5-71971d10d2f6"
      },
      "outputs": [
        {
          "output_type": "stream",
          "name": "stdout",
          "text": [
            "Длина ключа: 8520\n"
          ]
        }
      ],
      "execution_count": 5
    },
    {
      "cell_type": "code",
      "source": [
        "Данный код будет искать наибольшее значение IC для различных длин ключа и выводить найденную длину ключа.\n",
        "Далее, для взлома шифра Виженера нужно проанализировать частотность символов в строках, соответствующих одному символу ключа.\n",
        "Мы предполагаем, что наиболее часто встречающийся символ в каждой строке будет соответствовать символу, который зашифрован этим символом ключа.\n",
        "Мы можем использовать эту информацию для восстановления ключа.Процесс взлома шифра Виженера требует дальнейшего анализа.\n",
        "Когда мы определили длину ключа, мы можем восстановить каждую букву ключа путем анализа частотности символов в каждой строки, соответствующей одной букве ключа.\n",
        "Давайте продолжим кодирование. Для взлома шифра Виженера мы можем воспользоваться таблицей частотности русских букв, которая позволит нам приближенно определить исходные символы.\n",
        "..."
      ],
      "metadata": {
        "trusted": true,
        "id": "Kj4--3r62CRu"
      },
      "outputs": [],
      "execution_count": null
    },
    {
      "cell_type": "code",
      "source": [
        "def decrypt_vigenere(ciphertext, key_length):\n",
        "    alphabet = \"abcdefghijklmnopqrstuvwxyz\"\n",
        "    decrypted_text = ''\n",
        "    for i in range(key_length):\n",
        "        subtext = ciphertext[i::key_length]\n",
        "        frequencies = {}\n",
        "        for char in alphabet:\n",
        "            frequencies[char] = subtext.count(char)\n",
        "        most_frequent_char = max(frequencies, key=frequencies.get)\n",
        "        key_char = alphabet.index(most_frequent_char)\n",
        "        for char in subtext:\n",
        "            if char in alphabet:\n",
        "                decrypted_char = alphabet[(alphabet.index(char) - key_char) % len(alphabet)]\n",
        "                decrypted_text += decrypted_char\n",
        "            else:\n",
        "                decrypted_text += char\n",
        "    return decrypted_text\n",
        "\n",
        "decrypted_text = decrypt_vigenere(ciphertext, key_length)\n",
        "print(\"Расшифрованный текст:\")\n",
        "print(decrypted_text)\n"
      ],
      "metadata": {
        "trusted": true,
        "colab": {
          "base_uri": "https://localhost:8080/"
        },
        "id": "7Ym2g8qy2CRu",
        "outputId": "786c6b66-80c0-48fa-f043-0c5e8ce73b63"
      },
      "outputs": [
        {
          "output_type": "stream",
          "name": "stdout",
          "text": [
            "Расшифрованный текст:\n",
            "jafaaaokac,akpegaakghcakiauaccacpaaonarfmlaaeqaadaf.oma,,aaoaeal.aphcaabiavdjakvauaasraa!daaj:haaebkalcoaaapaarfadma.ab\n",
            "aaeaalvapclancaaqbhagcaavakagabkoabla(kbaha)kaaitalfanhapghabaonadhbaenaagbonaahofhaa,beqa.aoaofaeaafhabgefaamagr\n",
            "ahslaak.anraah1ae.aosabolagaaualbajaayaagiagzaacijadaedakcai/laqwqagaopacaia.b\n",
            "ah\n",
            "aaerbpaazsepaajaasvacmaoerabkaeaekzlaaknahea:hagaoujdaaqbpaagmacda!ba\n",
            "asaoaetaha!baaaajqahapbawdabaaaepatooalamhcaaknrpaeanaagqaujeaavnjaaaa,anhh,asmaekaacbadakphgajbaaildfaqaaagdieaapaac&gcaaebapsaytab.eaf.abfaoipaajmgayuahbcaadaambmgaakiafpgkamlaejanoaxablaahafalmgaydaazaah.aual\n",
            "aaanalbatuiadcaiafiiaahaataaaayzaaamgpadp,aaz,hajaaplamaxaldalahadjlaalhaazaava.aokjataagaalabaeaa,dadahlaaoaoaabu,aoaygfagakcayaauaephaaatjpcaak,nlaxafakdpaoa,oabaakoa.qa\n",
            "aaurbaafcawxkuahqavtaagm-mamafkalaaqajicfabmanakfaegacaalxaaawapagsamadhahia?haalakcadvfalacrga,.gaoalaknacdawbnvadwaabtpafgakbcaca,vhaoaeaiaaihmabagcagcxaablacaadagn,argaxvaakafaamaaqsagbiaaedakaeiuiahla.ka\n",
            "!abab\n",
            "aagqapaetaiamhpqahtargankaandgacaxqadewzaabeamuvaaaxgadariampawataaflahpgaxaqoabafva,eawohpaavgboaaq-uahalgavat-aharawaaaaqagiv,abaamiaahadllakoaetakahaaivaaafcauhltatahabifaakaedacgahsagualapaafkarjaigs?adsaaapoaaioaatmoaeakrsaabfaamoaibae.uaviaualcoaaira,ataieafaabfg.aoaa\n",
            "fmadkadjawxapehaabfgaaapbaajgaaaswalgaataaxlapbkaaaeuafiakoapazamahanmarkhapagwdalagjactade.batjaacparvsaaeiaiahaafebawmaamgrdaaigaa,amfwaauaamhaalma.gtsaahspaouapalnpagafaaazhcaaaqwmam?asmafhacanfaqzaaa!majkawuwaagcaaralbaadaanqbaadaamaabkfcabanarolaficana,lcaakjiraawfabadinalaptpaal,cabajajnliakaan.aapdpdaabealwacgadgenaapaaxajapnabhmabafhpaav?jaaicawnona.aaamkrafadgasigachiameaeaaageaxjannhaaslmamcawtagaeafhaffauadeqoaaykhoaeaahaoahjaupagoahadnhaniakdqaahaawradaiuokaamdavaaalao,iadalakhafimappeaa.rualkoaoakbahfakalwaxalnaaplaaotaalawbakoaaaoaxavatjajbaju,raroaaxaahsjauaa,ambcamkgaqnaagkpaaqalvaalramyan.aaqjmakfcacsabaclaearuaaweaiapkuavwsadaumpajaqajimja:aasmalah.ia\n",
            "qagaahmnalakahasalaazaaheaifcaeagqaasaaa?oale\n",
            "aaiabaaarcaatafcapbweaageiabearadjicabamdaecaorlahajvtaqjaavlamf.abkanbadmaka,aaaaaliairfa,akldaabdancad,asmaagkaka,raaraarawtaapezaklgajakaakaahea,jbagaadfaadbwascgaganofalaakeaancojaadabkatafepaoap,fasagahcaihaa.aailtaaog-alatdpamlma,eapaaepaawpatahpakdayiaujakapacnhjaialageab,smagfavaahaakalsaeadbasi,aealhakhaarjoalaoaajajaakcqaegasaaatpoaf,ahaishacajajmaiola(asa!az\n",
            "baaajnkajakcawoafarjaqslaadjflavbaq,aambbeafrafaacbsaaaanioasaaehaawvamjmiaaiveaigqahjapkalnaalea,epcaapfqalamaedaarecna,aeaupatajkajnutafuaaecariiafalkhaoza)ac,datutaakx.aaaajo,aiaeajfoahoadeaecaxnaahvnaroaqaeamsbaeahuaivecajabfapsawaywagegaobrakhaabwaenau;bafjaaukbadaiuaafa,ataraneivabvaaupaaaalegallagouaacdlaixahgaifabacq,adpkasxabahvnaabkza.dfaeamfuabagamlaarabrniasaotgazalaohcaaovaebdaeebabdagaoomapakfafasbapfalaikahejanmarairmabmaiikaaplaalrxagaqaaataaahngagaeatghankhaaleabeaf,loaqsaamcpjajaavaopaq-,aghamafajnafjaoaavbacs.naapakabtqaayaamcabpmhaqanbjabnae.aeadafgokaawoycaaeisakalaoamaa-acracacaapacafbcaaaydaaiau,aaamjamoawagleatfdabacaaiabogaakaeajaaf,a,aeaimda,zaaahaaiaaqmhaxaiailaabaq.da\n",
            "datatabaaabaajajackaiaafiaalhanadaa,naacdaarafaxahkaanfaaasacharaakaiapabala.a\n",
            "baahapapaliaadcaoaeadaiaa,aaskaacdaoadahaavadamdaahlaatara?arakhaaiadal.aaaahabtaadaiagaiarailafaava,daacdaaqfaiaaaqkaaoeasadaiahaaddaafanjahaeaaaagoaaiacmaaafauaafa!aa\n",
            "qaadaaraa,a(aahaaiatgaadasarajxaa!alagaaeacaaamhalaaabanaiarakjasadaa,)ahadaajxamahataa,aaatacarnaalaauaabanbana,aamaa,labalaahakagalxabadaapapaiagcaabdakamamafaamaljaaqpaaegajaajdahaqaahabiaa.aa(aegaeagamasamagaaveadaapabaegaoaadajcaoabaaegavaab.aeaqadaahoanaagba!a\n",
            "aamdajaragalaazafaoafabrakafa.aahhaahacanbaaa2a1a2aala,agacrakagaakaiapaaafaddajaala,anxaa2a1a2a-aaabaa.a)aafagapaad,aanhazafabalaaakaabnahaakaiayaktaaulaa,bahaalactacaeaaaagagagaaacfaahafaiqadaaxahamalamfafaaia,vaacagajaaao,amadaachamaahbaaocaa,iaeaapadlaaabalpaacahaeam.aaepaeacaaoaoapa:laoaiarasaaglalaanaaabahjaaxadjatavacaabfaa,ahafiasaahpaajapianakaoasapa,aoadacaavapqaaacalpaaaeamaeaa.a\n",
            "saavageaoazaiajaafpaauahkamasadaaaraannaarhaaffaaramvaajhaaaua,dajalaacaqagandaaaaaakaspaaohasaatapacbacacaacacjaaahamafaa,aptaabacaajhakaakcaaahaalualaadaqca.a\n",
            "aaeaczaakcaajdanaaaaabaiaakalbaarawianaafa,taaioaajdabasaaoalaoabapnaab,awaameaa.aaaiagawatjaaadafalaeavagaadda-aa,iaaaaaagzaeaoapajaaf:aaagaakaexafadaagsamaacaqkaagaaaataapaaagamjaakadanaqahavacbafataaouaxaeaapa,qaaharkabaaua,abaanab.aabdaaoaeaheaaepaaeantaaahaealahagabagaa!alagaaaha,aagiaapaopadaeapaamamadamafhaaenaaaa,paabnalawahaanbaadapfaaranaaiagkaajhaaneagaapaaahpaaqaseaabbabaap,aakafa,ahagbaaeaefaajavaqayadjanahaaajama.a\n",
            "aaafaapabacaagparaagafafmatakalaahuaaqacaaaalaeaabnaaoagaozanabaaaa.a\n",
            "admaadfaageaabcaaoaalahaafhaajannaao,aahadanacacmaeanaaaadea,apakaaraauaoaauakgaqaalapavcaanactaaraobadagalaja,akalajajaanfaaaaaaeakassarabaaaasafearapagaalaaaduaeaa.oahaaakacacaaekataaqakakaciadaaejaapaizafaam.aa(daaisafaasaitavaadalwaavgaadoahayaakhaaeaaaaafanoaaqaefaeadaaoapaykajanaa)a,vatagafaakraaaajdaaenaatafcaaoadajaoaaecajagaafannaada,naagoaagajaoalaai!a!a!aafajakafa,adabadqaaaefaiaadafgaa,aieaeawaca,aiaaaaloaaca;apwa!aaqadaixaankaahai!aa\n",
            "aeaaeaeaaa.fabaoaafadaiasoaaaapaamaenaadabadaaaeqaarbagaafaeaoiaaahaiaaoanafiaaaaiajamaa,zahahaahpaapeabaahdaajahajoaamagahacadacalqaaadataasafasoaaoahajamagagauabdaoaaeaeaaha.aqavaagdaacabmaauabata.aiahaaaaaaxajaafhabaaiagea,auaahiaraahagaoakaedabaafgacajaamakfaakaa,aarkaahaaaciagadaiaadadnaafeaagahhaab,aaoahcaiadaiaaiada.daaha,gapanaalaiacaekaalmaataaeaiaavaaasaaliaagaeialalamadaaivahaarakaxlaaadfaiaakkaaeoaaiaaacaca,caav!a\n",
            "laagaaaphaakalaaaiabianamaeaajsaailaalhadaaadanafabaamapackamaea,aaenajalamaagcanahaiahaiasaaklaazamhaajapdabacaahabbaada.waahansaoa,aasajabcadamahaoaaatanaa,haancaavlaadlaapaaacao.aoaadkaaaagjamagaaboacaaajhaafhaaaa.aaahjadaacdaaceaafaaamanbalaaaayayamadaaavagabanadragapaaoaaqaaceaaoagaacaaweaal,alaoaadacdaadaetaakiaagiaalafaaabbaaaahhabaaohaaaeaafaeaaaeajaaaldataajhaamaelaeahaxaalaaaijaadcafaaojalaazdabaparaagao.aaabafaoamaa,aocaa.aanaaoacrafaasfaa,aajoadahaiaaaav,aaeagalamabatfaagaajaaeadnaakakraaalaaamaaaahapacaaahcaralaasaqiaahalacaxgabaga.aafkaagcalaakdaa,akaavaarqagaabaitahaahoaaodaaaioahaamanmaahlaiaapauakaanaaacvaahacfaaanaaaaba,maajcaaoaaatfaqamaaauaa.a\n",
            "aoadaeajalfaagnaaegaahaasaaaqafjafaaalfamagaafdaqaa.apakaaavaakaabamarajafanalasaeahakpauadama,aaagacagaeafaaeahaigapaabakaramtapaaaaheaaaagiaiaanarananaxanla,aaoasafcaajahhaabadiaaaoaavnaapfaaeaaapaoiaaobaajadahaasaaiuabafaameacaeahanabaafaca..a\n",
            "aaamaeaawaaaaabcalaadraanaxsagakaaoaabaahababgagadabaahmafaaeabdawaaekaaica,aaeiaafbaaadamadaana,waaaeauaeadahafaatkaa-aleaataxlaaaiabaageaapaahaga.agaafgaafaaqaarmabacakaadaca,aealaaiaaasaghaafaaagawaalaauiaa?afaqaahla,asalaa,anhapacataaeraanaeavradaafaca,a,aoaaugaoakaakjaadlaakacradaaqabaaaeaafagadaca,,aoaeaptaaihabaiajakaa?aapcaaeariacaaiakajadraanqaabapajiamakakabakaahawoaaha,agga.a\n",
            "aiaaoiaakadcafaqaa,aleacaeaaiaaasanajcaafa.aaharaamaaadaa,afaageahaoaoaeaaaeaa,lafaeaaiaacacwaanmadaia,.aiiarapacaasaaaaaaafaamafasaajaajtatasaapaytagacaa,aanacma.abacaaacaraa,daapabaamakajabgakabaraaifaaka,aaeaadlaaqaralaaalamoaafbavaoadaaba,fadaajhakaaweafahaoajaaaafaidaalahamapfasaamadabaeaaap,asaaaada,naaeiaagpaacdabaabaaeaaakakeaaajanajabaafiaaea.aalaahagadaabtalaaflaaasacaiaiabvaabacagaoaialaaamaaaaafa!a\n",
            "acaapahad,aoaeahaahsaahaqahaiana.ajbaanar,awagaaraldaalabagjaajiabafavaacnafaab,ahaahsaaazaaesaaaeabaauoaadpaaaappaapfaaeuaaaaupajaanaaaaaaaaealaamagaleaaaeafaeaa.a\n",
            "ajmahalaataoahaamoahaajkaaduakaahqaa.gaaoapaaspaaaabahcaanaoafajacjaafeataaiafainagavalaagacabfaoaaacala,aaosaadcaajafhaawadaebaagaaiagaagmaaddamaea.,oaahnaagajacwaaanavaaufaabbaabaurajakaag,.agagkagaaaajsadaanvabahaarafadalgaaualacah,,adahaokaancaacapadagavadkacaabakoa,aaamaqaaiuaadaqeaaaaspaaaaadahaeaqa,aaaayaaragiataoaeabaeaaaiaaiaraaadaea,eaagaeiaabagaaaajabaoakaaalafaadpaaskacakaaiav.a\n",
            "aakaiavfakaaaaaaklagaageaqamaiaaaawoaahaetaoaadjaahcabaaba.agqaaaabdaamfaaualaasgaahajauatfaaleakadaaylaajaaamaohanaadpaafbaaahauaajavadaboaalaalfaaaaaafeaaataadaehaacjaaogaaqiaaeadakariaiahaacacaqbaacarnaapjaaka.ahabtaafanjafaqacaagacanlaanvaa,ajaaaaaaapacajan.amaaloaaiaqafaagaaaaavcazasasazafabaafdaiasaaeaiapwaavdasapaca,,baajabaiapabaacaktajafaakapaqgaaiataupapaiaahakgaa.uaakjagacaaoachaananaua,alacba,aapafaeadmaam.aadbaadeaarhauacaadauaqageaafa,laadabdaqaabad,aameahaabageaasacazeaananamaualahan.a\n",
            "aaghaiaannaabadajasdaakagdaaecaa-oaiaabsamaaoa.a\n",
            "ahakka.aagaqiaacnaarajaarrapagaagacahgaabaja.,aatdalaafanalaiaogaaraamakdaanaacalaanaldaamaefa-apaamadacaxiaajaoeaacpa,aamacaaacawaafagaappahasa,aaeapalaeakaaniaaga.daariajaalaatafaapa,maoaiaacvafaakab.aatpadaauabsaajahoaaluaaspagaaaagajlacaajaieaaaabkajaa,kaacablapaa.-aacmaauabajafakaofaaeacaealavaagraajaqacsaeaiaoaawaracoaa,aaaadaagaacaadjavaapaa,akaeaaiamxaqaeaaeadapahabiacaancajaaahaaeawakairaqaaeaia,agaaaaalaaqacalkaaclasaailaavnazasaavalagalala,maahlabajaka.aaeuakacaahgasaanaaaabaapkaaakaaasaaiwaacanjaalnajaanagaiaptadahaafkaaea.eaaoabua,aapajrahalaafataaracoabakaaakaeabaabaaaboaagfaakapaciagafaafga!a\n",
            "aa,aaaaaawuaaaaaoaaufaaaaannaaalaaeamdaaecaahoaa,ahmaagawavaeaiaanacaaamaaakgaaoada:sahaaagabaoaafqahaaygaabaaahanaqaooaameaalaqabhaadaradalhaaa.\n",
            "nabaah,aialadaapa,alagaqakasaaahgaaiacmaafaafadaaaaama,arauabakaeaaaadan,aaoaaablaagapganaeacaaibaadacpaa,acagaaudaacahaaalatabagaaadaxakaaaaaeayaaoakeaa.a\n",
            "afaljafabaaheaapaanaaaaahajakaueaadkaamamhakaawbajalaaelagaoapadaalfaaalaadhaxa,eaaalaaeacaawgaabeauakaagaafawasasaa.a\n",
            "abalaaweaoagaoaakgacaagaeak!aamlahaap,aazafadama,oaiabaaoaeakahaealafa,pakauauakaaaaaaeeaakahdaabianalagaeaaciaa,adbajaaqacabaeanahjaava,caaaabagabbaoaajaraeaawakaaamaahawagawaheaiaatpaaeaeabateaiaabnaawawxaanaj!akaaepaaajaba,aialapaxadaneahasaqaa,asaagaaalgacacaoaagadaopaaqha,ahajamaahakaaag,aaeaoaacaoaajakladaaagauaaddaeaaaa\n",
            "anaahnalaagtaadaooaaaaaagpapaafaekavaahrafaanaaaldaaaasmaabaaa.aa\n",
            "ammakaajahahahnaabkanaava!apaflabafa,aakadabaadna,aalaaaaaeagamala,aaiaoamaoalaaagaaodaeaanabatbaaaafacabha-aatabak-aa:gaparaaaahafaucaiaagabac.aalnaanvacagaaoanapafaaqaeaauaoagaeamarvaajalqaataqaobaaaakjabaalaaac.aa\n",
            "aaoiaafoatacabakalaabapcalaajab,amauaac-aiaakac,aahaikaa,aoajpa!aapkagadahafaadlanaanhapasaararbaalanxaaoadaebaavaaaaeapa,agahaaepalaaaalaajamavaidanaabafanlauaaaaanbafagaakamafambajapaoa.,avqaaoabhadadaaqamgaaeaaakafaeapaaaaaecapaa,eaeabauanaoababagaaaa,aasmanaajacabacaaqakaabbaahaaeaafa?aahadkavaal,alaaaahaaaeeaai.adakaajaeaepamaa,ataaooaaxeaaaabcamadaaeba,?ahanaqaalafkadahaadabaohanaajacajaeaaamaafgaagaaaaaaafaabakaadnaaaeeaea.a\n",
            "aa,oahaatafaaasara,aagaakalqadaaja,agacakaxahoa,ajaabaagqasafaabaa.aagkaavafhaaofaamainalakagaaeahaaeafpacaa.acaodaeaeaaokaakagaiaba,afnaan,atanaacrahahaagbaaokaaiagajaggaaonadaasaacaadama,naabafaitaadalagaadaasa,afeaaimataausaaepalalaaodaacaeaekaagaoagaaabdaauaea,iaacabxaaoac,aaiazoaqaeatacagaanaladtalaeaaua,maranaiaabmaasaebaagbaaaaaacgaa,harakaaalaahaszaau.a\n",
            "aapaaqaaaaiaaqaacpaavcaahpacaazmaaraaaaagaaeacaagafanaman;aa.ladaeaaitaeaagfaoaaiahacafnaa,majamaaiaohabakapaamakfaaqjaa,akadhakaaaaa,aahjaadlaakahgakaiamaagaakahgacaaseabaafa,aoabaakfaahamajdaajcaoaamaianaaapdaxauabaaa.aajtabaaehasaiaacyaaqhagaaaaial,aa,agaahajjalaaaatoala,aaiaaadalaloabataaqajdaagaifaacadsahapaapcaa,waaufakafataagoaalasagaaakac,aaujalaala,dacaiaoaaiabaaaga.a\n",
            "papaaaeaoaamafavka,aaooaalvagaameaapaceaiamaanaklaadatalbaagmaaqmaanapaecaajoaab,aaeafa,auaaamcakacaauayaalaasalnapaagiahaqaakaeaj.afaiaa,aibaeaeaabeaadagjaaaabaceafagaahacaaqgaoaamdaansaagafahcaapazakpaaieaab,aiaaktahaharamaahajacsaaufavaabqaaaapamaeanafama.saanajaaahadak.a\n",
            "avafaajalnaag,aaslaakiaakdaaaaquaacajadacasdaaauaadoaadag,aiaaksaabahahabbaaeaqapageaabfaafaodanauaaaaca.aiwaaaaaiaadna,aa,raaeaghaiaaaapagasajarajadabhaascafaagpajaam:aa,tagaabbavaaoiadacaakadpanagadaraxalaahaoafaaa,aaaaaaagalafnahaabagaraeauageaeafaaaaleagaasakataadaggaa-;aaaadacabaeajamagazapa.aaoapapaklagaraabaiuajaah,haqaaeatanqaaabajaeaakakdaalnadaahbauaadam.ahaamgatahaeacaxasaa,raraaabahacabaa,aaceaa!aaaiaktaoauadahadaalravaawiaalaaamacajacachapaagjaaban,acaa-acaktaqalaeabaabaakmauaaalaankaaoabeagaqaakaeazmaaaaakasba.ahalaavaearaaagaraeajdaadjaajjaa.acaemauaabwaafamaspaealaaoeaahfaapa:ahaiadtahafaiabapadaha,aoaaadaajaagaaajaa,eaablaabavlaaccafaoamanabaarcaablaoapaajcaajadjanahaa,afahaqayaaeamaahoaaaauab.aaaakcaa.uaapaaeaadaacpaaoaiganaoaadtapakaak,aambaalfaadhaakagdaawahariaaepaaka.laahaeadkafagaaoalaaaclaoaafaalwaraqaagaiacafa,anaaqaaabawa.a\n",
            "aoaafabsafaaaamaeaa6a,acaealaaanaafnada,aualavaajaadaaklamaanadbaadafjaa.kaoajakaoataacpaaalanapakaamajgamamalajawaahiaajjama,ahaa,faajadaiacqaa;amiaaqaaeaiaabfaavaa,ajeaabpaagabab,.a\n",
            "eaafarnamaabajagakpaahdaajramaadbakaa:eaavafagagadargaca-aaqaclaahgacaafaezaaw.aialaaiaeaeaaavfaacapavagdaraawsaahnaadgaanna,aacavaajafaoaaapafaakapeaala,aafaadagfaaaadacamaharajiafaadwa,aoaa,halaxaaegakaiaapaeaaagaoaaobaaapakabaxahagaananak,ajajaaaaiahakhaaoa,abkaiananauabaahatgaaaaaaoyahadaiaaekaadaktacaa,afanaafbaaqa,baarlaaveaa,faajcaajaaa,uaacalkaiagaababia.aamaaafvahaabaibaaka.aaiadaiafajaiacalacvaagjaaiaaauaacagcaalanapancaab,aaasa,caammaoata,aaeagaedaalaalcaahwahaafaoabababacalagaoeaagahaohanalamaabgaabaoaaahhaahaeaiaiaeaehaaavaaoaaoaila-aatauab-aaidaadaiamjaandacacaasuaagaaaaa.laaoaafaanazsapahaavbakaafnaama,a2a5aaoeaaeayadagaehacacaqaafqaaa.aa\n",
            "?aafakajaefaeamaacaeaeeaoalaajadalaqaqeaamaiagvaafaiafiajawaaha,dabaahafaobaababaiaeabbajaaoabaeaadraaraihaeasafaagaaalpaaaacbaacatcaaaeamaagamakalahgabalaakasalapalajkaavaf.apahaahhaaidaaaaanacakasabahaiaabuamatabaaskahaaka.jaaaiadabaainaeaapaeaoadgahaea:aaajamaaakeaa,uaaaabdaacalafao.adalagawaoajaaduaaayaavjaraa,awacavappaqaaaahaladapcaaloaacalakafmamaaioahahabaraeapaaaiauaadsaasanoaama.eaaoqa;aamhaanaamdaaffaadaniaauandacaarachakavakaadaoaapeaiaafa,danaaf,aiasaahauqauaag-aaaaaaa-akahaaata.ahadaacaa.eaafakgaiacabaajia.aaavakajaljaagsaacgaahasjaaqhaagafa,,aeanalaacdaanpagakaeaacahlaaccaameaau:aamaaaaekapaeaahacqaapakaceaga,aaqaalaalsaadabamdaadhadauaoaaoadaaevaa.;\n",
            "daajakaqawaaaolaadafacacdabaaeak,aakhagaadeaaojahaaafaaiaioabakaaagajaaraiajageacaahakdaakagalahagbadaaaaqadanabaiasa.,aoajadaaua,aeiaamiaacariabaalgaaratsagacaaeraab:aaafoadaamacaiadaa?aafafadyaafuaaaada,aeadahaqeaamjaacawadag?aa\n",
            "aaajahagatkaeaamdaab,aagaaiahamafagma,aatasaaoamamcaalamsaafanakaiiagaababaea.eamaavnaacjaalaleaacwaakacacjadaapba?aa\n",
            "-\n",
            "aadfaeaakaganeaajadfaabiaaaabaoa.gaaguaaealiaaiha:aaacdaaoaparja,aagyaadagdaqaeacajaaaasaxacaoasaqabhaatga?aa\n",
            "aaagaoab.aa\n",
            "aaqaoabaoapaapaiaklaa,aefa.abaaaamahajbaaiaoafabajkagafaaeavacafadoaagafaeagaoaga,aa.naaqaczamaardaaaeanaeaaeeagaaaahaaaka:laae.aavaaaafdaabgaainalaabaiaga,uaabfanaaapakaaaajalanaavababvalaamahcaavafeavadamafabaalcaagat.aa\n",
            "aaanfaa.maaiabaaladawahadadakaaawaaaqaaja,aaalbaaaaaad.aaavalaiaa,apraaaeaxaaadaiaa\n",
            "aaavtaea,aakaaahaghaaeauamahal,anajaala,eaaaaalbagaraaaaaaaeaagradaahadkaeaakcawaabeadaatak.aa\n",
            "aa,ladaaaaafabahpaabhapaoaafcaacaohaanjaaiaeasoadaaluagaeayaai,aada.aoaghabaafhaalaaiaghaaieaahalal.?a\n",
            "ambajaackakaakcaaleaaodaaiaieadanaaaaabaklaaaoaaguaahfaahakdagabapabafanagaagaiaakaaaeoajakaeadaa,raafsaeaabiawaiagahaaljacacaaajacaaypa.aawakabha,aagarnaoaqataaiadac,dakaargaacdakajalaaadaabqanaaja2a+maaasaa2a=a1anabanatahaadoaagadmakaabacaafa.a\n",
            "aajamacabgagadaalvacajaa.eamahaa,oaafjahaafnaianaappaoaoaadpaeaca.,ahabraaeanabaoagakaaraiajacbadaadjalaaeoaaadaaamaal,aauqaa,laaaeaamnasaaapaaakaeaaaakahnaagmaakgaaoaaaohapaoaanjavaaoeaai,aahnaaacabapaavaganeaaktavaoaajamsaka,akaauaaaoadahajeaa,ca,ahaaiatkaraakaedaaibaaemavaagakafaeakbamanaaoauaa.gacaakfajaasoapaakaaaiaaacaramapaaivaaaqaainaaggaiaamoauaaafmauaamafagbacaaaaaaefabaatajak.aapaedaadaealdafaaoaiabakanhahaaphaoaaqabaoapageaafga,aadlaalnaaakaaalaa.baauatrakacaaharafaxoaakma.a\n",
            "aabameacaaheamaanarabadoaalladaafaocaaflaamasbavaafaduaalaaebaapabaebaa,laac.aalhaacaoasanoaaelabaaq:aeaqaafcagapaaalawgaa.acgaahapaglaraadeanaas.ahaamqaamadanaohaaneaa,ataajakaahkaa,mabaoalaaaaaadiabaacakadkaajapuaaqxaaiacaaaa,acaalkapajaa,baaaeaaahafaqaafiaapaaadac,aaeafafabkadaababdafaadlaanagcaaa.aakbawaamacaopaaba,ragalacaadeaaldaadafaaabaradahahmaa-naaaacapagjadataamahsacaaeuaoaeaaclaaddaavadagwaarkaadhaagsaa.a\n",
            "eaoaaavaafdaaacapaaldaaqawama,iaaqaaaaxaamaqatrabakakakaalayahaiaufaagbacaaaakgaarafamfaaoadakcaa,laalab(aapaebacaeaaeeanaadaraktaaagabava)aoajacaadajavtakakaaaakaacaadlaaaaepaarak.aakadaiaramabaaararaoaakafadacdananaaaab,aaniaaabafaawaeaqahafhaabdaabaaaqa.alfacaalladaabaiala,oataanraaaaaaaaaaaaealaaaaaaaaaqlaeaajapaahahaaahachalaadaifaafalalhaiahamaakamakfaaaa,garajaajarahaddaabadeaaeaaaakadaahajaczaalgahaahapao.a\n",
            "alaoaa.achabajaaaapsagakavaa,aiaktaapgalaiaabaipaaglaagalamacdaanalaianamaabsaaflaan.aqaeaaamapaaflauaaahoaaihaajsaaaavfakamaakaqjasafaqaapabavadaedaaaaebaagcada,aailadaaadaaza!aalalakamnahaahcaakbaapaaiaalaawajaldaoadaa,uaacaaapaaaepaaogafahaaoaqab.aaiaealaabamsabaiaaqainataoaxaajacgaapa.a\n",
            "baahfaiaaafaraaaaa,aaofaakaglaaaabpagavaaaafamkaanauaiaj.aawnaadafa,kaazjaavajavaagdaagoaabhajaaaqaahaxhataab-aagwaaqjaajaea,gaaboaafafbaa,pacaatfapala.aa,lagafauaaofaaja.faagagkaa,aaeeaajeaaakadagaaaaabdafaapaaabaaaabacaiaafarkaaialakaaaagaamjaasada!aoav,aaiaaasawauaxaealvaajdafaaaaeaalaafcajaqaaha,asabagdauaagaladoavacaadagabnabaabapbaa,anaaahamiaaigaaibawaga,aaaraafalaeasaiabaanbadaaeahkaaaajaumaafnaqaxaalaicala.aa,aiaglaaowaaragaaodaafbaajaceacagaaanaaaaaa.oaaaaelahabama,aoaoaalafaqaakaajabaaquaoaca.a\n",
            "aafgalacakaiaasapeamalaahhasaacacaaqaabaegafakakaa,la.afaajaobadahanaasagafacanpalaafeaakeamaagadbaoamakalaiabahaawa,,agaagafhabamaabmadalakacaaedaaawaaesaatacadfajaaayadajamagaamaejaoacaaxaqalafacanbaa.a\n",
            "auafaiasapbaaaaqnajaalabaeapaabaam,aaiaeoaadoamanahawaanwafaaboaa,abadafjajaacaaa-aaaha-acjacagaaabadajaeaalmaaeeaabaiaclaanpa.aapamaoanagatalamlaavnaalatbalahaajbaadgaaiaagpaaiajpajaafoaeaagvafaaeeaaaaceaapadaaiaadaaeaeakaieaanhaa,oaagfaabaakahaabadaipaaaaeafiaa.pagaaajaapawasaeiaaearauahbacaaeaiaf.abajaa,agqadaasak,aacnaafa,aadalaaabaabaahiagaa!achaqadaeaeaahpamaataazaajqaaoalacae?!a\n",
            "aafaaa,asqafa,aaaihaajagaaa/ca\n"
          ]
        }
      ],
      "execution_count": 15
    },
    {
      "cell_type": "code",
      "source": [
        "Этот код пройдет по каждой строке, соответствующей одной букве ключа, и анализирует частотность символов в ней.\n",
        "Затем он найдет наиболее часто встречающийся символ и сравнит его с таблицей частотности русских букв, чтобы определить букву исходного текста.\n",
        "Затем каждый символ в строке будет расшифрован с использованием полученной буквы ключа.\n",
        "В результате мы получим расшифрованный текст, который можно вывести на экран."
      ],
      "metadata": {
        "trusted": true,
        "id": "z8ZE7LRU2CRv"
      },
      "outputs": [],
      "execution_count": null
    },
    {
      "cell_type": "markdown",
      "source": [
        "Ну, код должен поидее работать, но я не знаю, почему он мне выдал набор символов без ошибки"
      ],
      "metadata": {
        "id": "0PX2yKgg4zGn"
      }
    }
  ]
}