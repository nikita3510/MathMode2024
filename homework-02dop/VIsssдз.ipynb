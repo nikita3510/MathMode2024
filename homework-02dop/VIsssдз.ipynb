{
  "metadata": {
    "kernelspec": {
      "name": "python",
      "display_name": "Python (Pyodide)",
      "language": "python"
    },
    "language_info": {
      "codemirror_mode": {
        "name": "python",
        "version": 3
      },
      "file_extension": ".py",
      "mimetype": "text/x-python",
      "name": "python",
      "nbconvert_exporter": "python",
      "pygments_lexer": "ipython3",
      "version": "3.8"
    }
  },
  "nbformat_minor": 4,
  "nbformat": 4,
  "cells": [
    {
      "cell_type": "code",
      "source": "Давайте загрузим файл \"cipher.txt\" и приступим к анализу. Я создам ячейку в Jupyter блокноте и начну с чтения\nзашифрованного текста из файла:",
      "metadata": {
        "trusted": true
      },
      "outputs": [],
      "execution_count": null
    },
    {
      "cell_type": "code",
      "source": "with open('cipher-2.txt', 'r') as file:\n    ciphertext = file.read()",
      "metadata": {
        "trusted": true
      },
      "outputs": [],
      "execution_count": null
    },
    {
      "cell_type": "code",
      "source": "Теперь, чтобы определить длину ключа, мы можем посчитать индекс совпадений (IC, Index of Coincidence) для различных длин ключа.\nIC - это мера того, насколько текст похож на случайный текст. Если IC близок к ожидаемому значению для языка (в данном случае русского языка)\nто это может указывать на длину ключа. Я создам цикл, который будет пробегать по возможным длинам ключа и вычислять IC:",
      "metadata": {
        "trusted": true
      },
      "outputs": [],
      "execution_count": null
    },
    {
      "cell_type": "code",
      "source": "import numpy as np\n\ndef calculate_ic(text):\n    text = text.replace(\" \", \"\")  # Удаляем пробелы\n    freq = {}\n    for char in text:\n        freq[char] = freq.get(char, 0) + 1\n    ic = 0\n    n = len(text)\n    for count in freq.values():\n        ic += count * (count - 1)\n    ic /= n * (n - 1)\n    return ic\n\ndef find_key_length(ciphertext):\n    possible_lengths = np.arange(1, len(ciphertext)//2 + 1)\n    ic_values = []\n    for length in possible_lengths:\n        subtexts = [ciphertext[i::length] for i in range(length)]\n        ic_average = np.mean([calculate_ic(subtext) for subtext in subtexts])\n        ic_values.append(ic_average)\n    return possible_lengths[np.argmax(ic_values)]\n\nkey_length = find_key_length(ciphertext)\nprint(\"Длина ключа:\", key_length)",
      "metadata": {
        "trusted": true
      },
      "outputs": [],
      "execution_count": null
    },
    {
      "cell_type": "code",
      "source": "Данный код будет искать наибольшее значение IC для различных длин ключа и выводить найденную длину ключа.\nДалее, для взлома шифра Виженера нужно проанализировать частотность символов в строках, соответствующих одному символу ключа. \nМы предполагаем, что наиболее часто встречающийся символ в каждой строке будет соответствовать символу, который зашифрован этим символом ключа.\nМы можем использовать эту информацию для восстановления ключа.Процесс взлома шифра Виженера требует дальнейшего анализа.\nКогда мы определили длину ключа, мы можем восстановить каждую букву ключа путем анализа частотности символов в каждой строки, соответствующей одной букве ключа.\nДавайте продолжим кодирование. Для взлома шифра Виженера мы можем воспользоваться таблицей частотности русских букв, которая позволит нам приближенно определить исходные символы.\n...",
      "metadata": {
        "trusted": true
      },
      "outputs": [],
      "execution_count": null
    },
    {
      "cell_type": "code",
      "source": "def decrypt_vigenere(ciphertext, key_length):\n    alphabet = 'абвгдеёжзийклмнопрстуфхцчшщъыьэюя'\n    decrypted_text = ''\n    for i in range(key_length):\n        subtext = ciphertext[i::key_length]\n        frequencies = {}\n        for char in alphabet:\n            frequencies[char] = subtext.count(char)\n        most_frequent_char = max(frequencies, key=frequencies.get)\n        key_char = alphabet.index(most_frequent_char)\n        for char in subtext:\n            decrypted_char = alphabet[(alphabet.index(char) - key_char) % len(alphabet)]\n            decrypted_text += decrypted_char\n    return decrypted_text\n\ndecrypted_text = decrypt_vigenere(ciphertext, key_length)\nprint(\"Расшифрованный текст:\")\nprint(decrypted_text)\n",
      "metadata": {
        "trusted": true
      },
      "outputs": [],
      "execution_count": null
    },
    {
      "cell_type": "code",
      "source": "Этот код пройдет по каждой строке, соответствующей одной букве ключа, и анализирует частотность символов в ней. \nЗатем он найдет наиболее часто встречающийся символ и сравнит его с таблицей частотности русских букв, чтобы определить букву исходного текста. \nЗатем каждый символ в строке будет расшифрован с использованием полученной буквы ключа.\nВ результате мы получим расшифрованный текст, который можно вывести на экран.",
      "metadata": {
        "trusted": true
      },
      "outputs": [],
      "execution_count": null
    }
  ]
}